{
 "cells": [
  {
   "cell_type": "markdown",
   "id": "fce85ff4",
   "metadata": {},
   "source": [
    "# <center> <h1> Problem 3 <font> </h1> </center>"
   ]
  },
  {
   "cell_type": "markdown",
   "id": "3d439ddc",
   "metadata": {},
   "source": [
    "# <h4><font color='red'> Deflection of cantilever beam </font> </h4>"
   ]
  },
  {
   "cell_type": "markdown",
   "id": "fcfb27d5",
   "metadata": {},
   "source": [
    "# <h4><font color='green'> Beam parametrs </font> </h4>\n",
    "L= 25000 cm\n",
    "\n",
    "P= 250 N/cm\n",
    "\n",
    "p1= 100kN @at length\n",
    "\n",
    "p2= 200kN @100m fixed end\n",
    "\n",
    "I= 81960000cm^4\n",
    "\n",
    "E= 200000 pa\n",
    " \n",
    "\n"
   ]
  },
  {
   "cell_type": "markdown",
   "id": "2898f2aa",
   "metadata": {},
   "source": [
    "# <h4><font color='red'> Load Libraries </font> </h4>"
   ]
  },
  {
   "cell_type": "code",
   "execution_count": 4,
   "id": "c3f78b9a",
   "metadata": {},
   "outputs": [],
   "source": [
    "import numpy as np\n",
    "import matplotlib.pyplot as plt\n",
    "import math\n",
    "import sys"
   ]
  },
  {
   "cell_type": "code",
   "execution_count": null,
   "id": "4c818fc1",
   "metadata": {},
   "outputs": [],
   "source": [
    "def "
   ]
  }
 ],
 "metadata": {
  "kernelspec": {
   "display_name": "Python 3 (ipykernel)",
   "language": "python",
   "name": "python3"
  },
  "language_info": {
   "codemirror_mode": {
    "name": "ipython",
    "version": 3
   },
   "file_extension": ".py",
   "mimetype": "text/x-python",
   "name": "python",
   "nbconvert_exporter": "python",
   "pygments_lexer": "ipython3",
   "version": "3.9.7"
  }
 },
 "nbformat": 4,
 "nbformat_minor": 5
}
